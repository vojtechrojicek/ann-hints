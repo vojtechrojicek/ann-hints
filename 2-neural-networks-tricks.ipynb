{
 "cells": [
  {
   "cell_type": "markdown",
   "metadata": {},
   "source": [
    "# Tensorflow playground"
   ]
  },
  {
   "cell_type": "markdown",
   "metadata": {},
   "source": [
    "[Tensorflow playground](http://playground.tensorflow.org/) is a web based neural network demo. It is really useful to develop an intuition about what happens when you change architecture, activation function or other parameters."
   ]
  },
  {
   "cell_type": "markdown",
   "metadata": {},
   "source": [
    "# Fit history - charts from epochs"
   ]
  },
  {
   "cell_type": "code",
   "execution_count": 55,
   "metadata": {},
   "outputs": [],
   "source": [
    "import pandas as pd\n",
    "import numpy as np\n",
    "\n",
    "df = pd.read_csv('./data/ann/banknotes.csv')\n",
    "\n",
    "X = scale(df.drop('class', axis=1).values)\n",
    "y = df['class'].values\n",
    "\n",
    "X_train, X_test, y_train, y_test = train_test_split(X, y,\n",
    "                                                    test_size=0.3,\n",
    "                                                    random_state=42)"
   ]
  },
  {
   "cell_type": "code",
   "execution_count": 56,
   "metadata": {},
   "outputs": [],
   "source": [
    "import keras.backend as K\n",
    "from keras.models import Sequential\n",
    "from keras.layers import Dense, Activation\n",
    "from keras.optimizers import SGD\n",
    "\n",
    "K.clear_session()\n",
    "\n",
    "model = Sequential()\n",
    "model.add(Dense(1, input_shape=(4,), activation='sigmoid'))\n",
    "\n",
    "model.compile(loss='binary_crossentropy',\n",
    "              optimizer='sgd',\n",
    "              metrics=['accuracy'])"
   ]
  },
  {
   "cell_type": "markdown",
   "metadata": {},
   "source": [
    "### Save history from fit method"
   ]
  },
  {
   "cell_type": "code",
   "execution_count": null,
   "metadata": {},
   "outputs": [],
   "source": [
    "history = model.fit(X_train, y_train, epochs=10)\n",
    "result = model.evaluate(X_test, y_test)"
   ]
  },
  {
   "cell_type": "code",
   "execution_count": 18,
   "metadata": {},
   "outputs": [
    {
     "data": {
      "text/plain": [
       "Text(0.5,1,'Test accuracy: 72.1 %')"
      ]
     },
     "execution_count": 18,
     "metadata": {},
     "output_type": "execute_result"
    },
    {
     "data": {
      "image/png": "[encoded data removed]",
      "text/plain": [
       "<Figure size 432x288 with 1 Axes>"
      ]
     },
     "metadata": {},
     "output_type": "display_data"
    }
   ],
   "source": [
    "%matplotlib inline\n",
    "import matplotlib.pyplot as plt\n",
    "\n",
    "historydf = pd.DataFrame(history.history, index=history.epoch)\n",
    "historydf.plot(ylim=(0,1))\n",
    "plt.title(\"Test accuracy: {:3.1f} %\".format(result[1]*100), fontsize=15)"
   ]
  },
  {
   "cell_type": "markdown",
   "metadata": {},
   "source": [
    "# Inner layer representation"
   ]
  },
  {
   "cell_type": "markdown",
   "metadata": {},
   "source": [
    "How to visualize the activations of inner layers.\n",
    "What my model is doing? - dimensional reduction ?"
   ]
  },
  {
   "cell_type": "code",
   "execution_count": 70,
   "metadata": {},
   "outputs": [],
   "source": [
    "from keras.optimizers import RMSprop\n",
    "\n",
    "K.clear_session()\n",
    "\n",
    "model = Sequential()\n",
    "model.add(Dense(3, input_shape=(4,), activation='relu'))\n",
    "model.add(Dense(2, activation='relu'))\n",
    "model.add(Dense(1, activation='sigmoid'))\n",
    "model.compile(loss='binary_crossentropy',\n",
    "              optimizer=RMSprop(lr=0.01),\n",
    "              metrics=['accuracy'])"
   ]
  },
  {
   "cell_type": "markdown",
   "metadata": {},
   "source": [
    "### Model detail"
   ]
  },
  {
   "cell_type": "code",
   "execution_count": 71,
   "metadata": {},
   "outputs": [
    {
     "name": "stdout",
     "output_type": "stream",
     "text": [
      "_________________________________________________________________\n",
      "Layer (type)                 Output Shape              Param #   \n",
      "=================================================================\n",
      "dense_1 (Dense)              (None, 3)                 15        \n",
      "_________________________________________________________________\n",
      "dense_2 (Dense)              (None, 2)                 8         \n",
      "_________________________________________________________________\n",
      "dense_3 (Dense)              (None, 1)                 3         \n",
      "=================================================================\n",
      "Total params: 26\n",
      "Trainable params: 26\n",
      "Non-trainable params: 0\n",
      "_________________________________________________________________\n",
      "None\n",
      "[<keras.layers.core.Dense object at 0x0000017688D1ABE0>, <keras.layers.core.Dense object at 0x0000017688D1AC50>, <keras.layers.core.Dense object at 0x0000017688D1A8D0>]\n"
     ]
    }
   ],
   "source": [
    "print(model.summary())\n",
    "print(model.layers)"
   ]
  },
  {
   "cell_type": "markdown",
   "metadata": {},
   "source": [
    "### Feature function (input of 1.st layer vs output of 2.nd => feature separating)"
   ]
  },
  {
   "cell_type": "code",
   "execution_count": 72,
   "metadata": {},
   "outputs": [
    {
     "name": "stdout",
     "output_type": "stream",
     "text": [
      "Tensor(\"dense_1_input:0\", shape=(?, 4), dtype=float32)\n",
      "Tensor(\"dense_2/Relu:0\", shape=(?, 2), dtype=float32)\n"
     ]
    }
   ],
   "source": [
    "inp = model.layers[0].input\n",
    "out = model.layers[1].output\n",
    "print(inp)\n",
    "print(out)"
   ]
  },
  {
   "cell_type": "code",
   "execution_count": 73,
   "metadata": {},
   "outputs": [],
   "source": [
    "#Create feature function\n",
    "features_function = K.function([inp], [out])"
   ]
  },
  {
   "cell_type": "code",
   "execution_count": 74,
   "metadata": {},
   "outputs": [
    {
     "name": "stdout",
     "output_type": "stream",
     "text": [
      "412/412 [==============================] - 0s 146us/step\n",
      "412/412 [==============================] - 0s 50us/step\n",
      "412/412 [==============================] - 0s 30us/step\n",
      "412/412 [==============================] - 0s 21us/step\n",
      "412/412 [==============================] - 0s 56us/step\n",
      "412/412 [==============================] - 0s 41us/step\n",
      "412/412 [==============================] - 0s 64us/step\n",
      "412/412 [==============================] - 0s 17us/step\n",
      "412/412 [==============================] - 0s 40us/step\n",
      "412/412 [==============================] - 0s 23us/step\n",
      "412/412 [==============================] - 0s 67us/step\n",
      "412/412 [==============================] - 0s 46us/step\n",
      "412/412 [==============================] - 0s 29us/step\n",
      "412/412 [==============================] - 0s 39us/step\n",
      "412/412 [==============================] - 0s 34us/step\n",
      "412/412 [==============================] - 0s 49us/step\n",
      "412/412 [==============================] - 0s 15us/step\n",
      "412/412 [==============================] - 0s 48us/step\n",
      "412/412 [==============================] - 0s 48us/step\n",
      "412/412 [==============================] - 0s 48us/step\n",
      "412/412 [==============================] - 0s 18us/step\n",
      "412/412 [==============================] - 0s 44us/step\n",
      "412/412 [==============================] - 0s 22us/step\n",
      "412/412 [==============================] - 0s 19us/step\n"
     ]
    },
    {
     "data": {
      "image/png": "[encoded data removed]",
      "text/plain": [
       "<Figure size 1080x720 with 24 Axes>"
      ]
     },
     "metadata": {},
     "output_type": "display_data"
    }
   ],
   "source": [
    "#Plot feature function\n",
    "plt.figure(figsize=(15,10))\n",
    "\n",
    "for i in range(1, 26):\n",
    "    plt.subplot(5, 5, i)\n",
    "    h = model.fit(X_train, y_train, batch_size=16, epochs=1, verbose=0)\n",
    "    test_accuracy = model.evaluate(X_test, y_test)[1]\n",
    "    features = features_function([X_test])[0]\n",
    "    plt.scatter(features[:, 0], features[:, 1], c=y_test, cmap='coolwarm')\n",
    "    plt.xlim(-0.5, 3.5)\n",
    "    plt.ylim(-0.5, 4.0)\n",
    "    plt.title('Epoch: {}, Test Acc: {:3.1f} %'.format(i, test_accuracy * 100.0))\n",
    "\n",
    "#Looks different for every run - random init\n",
    "plt.tight_layout()"
   ]
  },
  {
   "cell_type": "markdown",
   "metadata": {},
   "source": [
    "# Callbacks"
   ]
  },
  {
   "cell_type": "code",
   "execution_count": 52,
   "metadata": {},
   "outputs": [],
   "source": [
    "from sklearn.preprocessing import StandardScaler\n",
    "import numpy as np\n",
    "import pandas as pd\n",
    "import matplotlib.pyplot as plt\n",
    "from sklearn.model_selection import train_test_split"
   ]
  },
  {
   "cell_type": "markdown",
   "metadata": {},
   "source": [
    "Load dataset"
   ]
  },
  {
   "cell_type": "code",
   "execution_count": null,
   "metadata": {},
   "outputs": [],
   "source": [
    "df = pd.read_csv('./data/ann/wines.csv')\n",
    "y = df['Class']\n",
    "y_cat = pd.get_dummies(y)\n",
    "X = df.drop('Class', axis=1)\n",
    "\n",
    "sc = StandardScaler()\n",
    "Xsc = sc.fit_transform(X)\n",
    "\n",
    "X_train, X_test, y_train, y_test = train_test_split(Xsc, y_cat.values,\n",
    "                                                    test_size=0.3,\n",
    "                                                    random_state=42)"
   ]
  },
  {
   "cell_type": "markdown",
   "metadata": {},
   "source": [
    "Create callbacks:\n",
    "- save model after each epoch\n",
    "- stop if val_loss do not change\n",
    "- tensorboard"
   ]
  },
  {
   "cell_type": "code",
   "execution_count": 53,
   "metadata": {},
   "outputs": [],
   "source": [
    "from keras.callbacks import ModelCheckpoint, EarlyStopping, TensorBoard\n",
    "\n",
    "folder = r'D:/ML/Tutorials/Demo/data/ann'\n",
    "\n",
    "checkpointer = ModelCheckpoint(filepath= folder +\"/weights.{epoch:04d}-{val_loss:.2f}.hdf5\",\n",
    "                               verbose=1, save_best_only=True)\n",
    "earlystopper = EarlyStopping(monitor='val_loss', min_delta=0,\n",
    "                             patience=1, verbose=1, mode='auto')\n",
    "tensorboard = TensorBoard(log_dir= folder + '/tensorboard/')"
   ]
  },
  {
   "cell_type": "markdown",
   "metadata": {},
   "source": [
    "Fit - set callbacks"
   ]
  },
  {
   "cell_type": "code",
   "execution_count": 54,
   "metadata": {},
   "outputs": [
    {
     "name": "stdout",
     "output_type": "stream",
     "text": [
      "Train on 124 samples, validate on 54 samples\n",
      "Epoch 1/20\n",
      " - 0s - loss: 0.6460 - acc: 0.7177 - val_loss: 0.2175 - val_acc: 0.9630\n",
      "\n",
      "Epoch 00001: val_loss improved from inf to 0.21749, saving model to D:/ML/Tutorials/Demo/data/ann/weights.0001-0.22.hdf5\n",
      "Epoch 2/20\n",
      " - 0s - loss: 0.2192 - acc: 0.9113 - val_loss: 0.1600 - val_acc: 0.9444\n",
      "\n",
      "Epoch 00002: val_loss improved from 0.21749 to 0.16004, saving model to D:/ML/Tutorials/Demo/data/ann/weights.0002-0.16.hdf5\n",
      "Epoch 3/20\n",
      " - 0s - loss: 0.0978 - acc: 0.9677 - val_loss: 0.0903 - val_acc: 0.9815\n",
      "\n",
      "Epoch 00003: val_loss improved from 0.16004 to 0.09034, saving model to D:/ML/Tutorials/Demo/data/ann/weights.0003-0.09.hdf5\n",
      "Epoch 4/20\n",
      " - 0s - loss: 0.0542 - acc: 0.9919 - val_loss: 0.0584 - val_acc: 0.9815\n",
      "\n",
      "Epoch 00004: val_loss improved from 0.09034 to 0.05837, saving model to D:/ML/Tutorials/Demo/data/ann/weights.0004-0.06.hdf5\n",
      "Epoch 5/20\n",
      " - 0s - loss: 0.0360 - acc: 0.9919 - val_loss: 0.1091 - val_acc: 0.9815\n",
      "\n",
      "Epoch 00005: val_loss did not improve from 0.05837\n",
      "Epoch 00005: early stopping\n"
     ]
    },
    {
     "data": {
      "text/plain": [
       "<keras.callbacks.History at 0x176873b4b70>"
      ]
     },
     "execution_count": 54,
     "metadata": {},
     "output_type": "execute_result"
    }
   ],
   "source": [
    "K.clear_session()\n",
    "\n",
    "model = Sequential()\n",
    "model.add(Dense(8, input_shape=(13,), activation='tanh'))\n",
    "model.add(Dense(5, activation='tanh'))\n",
    "model.add(Dense(3, activation='softmax'))\n",
    "\n",
    "model.compile(RMSprop(lr=0.05), 'categorical_crossentropy',\n",
    "              metrics=['accuracy'])\n",
    "\n",
    "model.fit(X_train, y_train, batch_size=32,\n",
    "          epochs=20, verbose=2,\n",
    "          validation_data=(X_test, y_test),\n",
    "          #callbacks\n",
    "          callbacks=[checkpointer, earlystopper, tensorboard])"
   ]
  },
  {
   "cell_type": "markdown",
   "metadata": {},
   "source": [
    "# Tensorboard"
   ]
  },
  {
   "cell_type": "markdown",
   "metadata": {},
   "source": [
    "Jupyter notebook -> new -> terminal\n",
    "\n",
    "write: tensorboard --logdir 'D:/ML/Tutorials/Demo/data/ann/tensorboard'\n",
    "\n",
    "browser run: localhost:6006 (or different url shown in terminal)"
   ]
  },
  {
   "cell_type": "markdown",
   "metadata": {},
   "source": [
    "# ML vs ANN"
   ]
  },
  {
   "cell_type": "code",
   "execution_count": 82,
   "metadata": {},
   "outputs": [],
   "source": [
    "import pandas as pd\n",
    "import matplotlib.pyplot as plt\n",
    "import numpy as np\n",
    "from sklearn.preprocessing import StandardScaler\n",
    "from keras.utils import to_categorical\n",
    "from sklearn.model_selection import train_test_split\n",
    "from sklearn.metrics import confusion_matrix\n",
    "from sklearn.metrics import accuracy_score\n",
    "from sklearn.metrics import classification_report\n",
    "\n",
    "\n",
    "df = pd.read_csv('./data/preprocessing/diabetes.csv')\n",
    "\n",
    "sc = StandardScaler()\n",
    "X = sc.fit_transform(df.drop('Outcome', axis=1))\n",
    "y = df['Outcome'].values\n",
    "y_cat = to_categorical(y)\n",
    "\n",
    "X_train, X_test, y_train, y_test = train_test_split(X, y_cat,\n",
    "    test_size = 0.2, \n",
    "    random_state = 22)"
   ]
  },
  {
   "cell_type": "markdown",
   "metadata": {},
   "source": [
    "### ML"
   ]
  },
  {
   "cell_type": "code",
   "execution_count": 88,
   "metadata": {},
   "outputs": [
    {
     "name": "stdout",
     "output_type": "stream",
     "text": [
      "================================================================================\n",
      "RandomForestClassifier(bootstrap=True, class_weight=None, criterion='gini',\n",
      "            max_depth=None, max_features='auto', max_leaf_nodes=None,\n",
      "            min_impurity_decrease=0.0, min_impurity_split=None,\n",
      "            min_samples_leaf=1, min_samples_split=2,\n",
      "            min_weight_fraction_leaf=0.0, n_estimators=10, n_jobs=1,\n",
      "            oob_score=False, random_state=None, verbose=0,\n",
      "            warm_start=False)\n",
      "--------------------------------------------------------------------------------\n",
      "Accuracy score: 0.734\n",
      "Confusion Matrix:\n",
      "[[88 12]\n",
      " [29 25]]\n",
      "\n",
      "================================================================================\n",
      "SVC(C=1.0, cache_size=200, class_weight=None, coef0=0.0,\n",
      "  decision_function_shape='ovr', degree=3, gamma='auto', kernel='rbf',\n",
      "  max_iter=-1, probability=False, random_state=None, shrinking=True,\n",
      "  tol=0.001, verbose=False)\n",
      "--------------------------------------------------------------------------------\n",
      "Accuracy score: 0.721\n",
      "Confusion Matrix:\n",
      "[[89 11]\n",
      " [32 22]]\n",
      "\n",
      "================================================================================\n",
      "GaussianNB(priors=None)\n",
      "--------------------------------------------------------------------------------\n",
      "Accuracy score: 0.708\n",
      "Confusion Matrix:\n",
      "[[87 13]\n",
      " [32 22]]\n",
      "\n"
     ]
    }
   ],
   "source": [
    "from sklearn.ensemble import RandomForestClassifier\n",
    "from sklearn.svm import SVC\n",
    "from sklearn.naive_bayes import GaussianNB\n",
    "\n",
    "for mod in [RandomForestClassifier(), SVC(), GaussianNB()]:\n",
    "    mod.fit(X_train, y_train[:, 1])\n",
    "    \n",
    "    y_pred = mod.predict(X_test)\n",
    "    y_test_class = np.argmax(y_test, axis=1)\n",
    "    \n",
    "    print(\"=\"*80)\n",
    "    print(mod)\n",
    "    print(\"-\"*80)\n",
    "    print(\"Accuracy score: {:0.3}\".format(accuracy_score(y_test_class,\n",
    "                                                         y_pred)))\n",
    "    print(\"Confusion Matrix:\")\n",
    "    print(confusion_matrix(y_test_class, y_pred))\n",
    "    print()"
   ]
  },
  {
   "cell_type": "markdown",
   "metadata": {},
   "source": [
    "### ANN"
   ]
  },
  {
   "cell_type": "code",
   "execution_count": 89,
   "metadata": {},
   "outputs": [
    {
     "name": "stdout",
     "output_type": "stream",
     "text": [
      "Train on 552 samples, validate on 62 samples\n",
      "Epoch 1/20\n",
      " - 1s - loss: 0.5634 - acc: 0.7337 - val_loss: 0.6055 - val_acc: 0.7581\n",
      "Epoch 2/20\n",
      " - 0s - loss: 0.4722 - acc: 0.7645 - val_loss: 0.5192 - val_acc: 0.7419\n",
      "Epoch 3/20\n",
      " - 0s - loss: 0.4656 - acc: 0.7808 - val_loss: 0.5001 - val_acc: 0.7742\n",
      "Epoch 4/20\n",
      " - 0s - loss: 0.4461 - acc: 0.7935 - val_loss: 0.5132 - val_acc: 0.7903\n",
      "Epoch 5/20\n",
      " - 0s - loss: 0.4484 - acc: 0.7826 - val_loss: 0.5716 - val_acc: 0.7581\n",
      "Epoch 6/20\n",
      " - 0s - loss: 0.4657 - acc: 0.7754 - val_loss: 0.6501 - val_acc: 0.7742\n",
      "Epoch 7/20\n",
      " - 0s - loss: 0.4341 - acc: 0.7826 - val_loss: 0.5487 - val_acc: 0.7581\n",
      "Epoch 8/20\n",
      " - 0s - loss: 0.4161 - acc: 0.7989 - val_loss: 0.5506 - val_acc: 0.7581\n",
      "Epoch 9/20\n",
      " - 0s - loss: 0.4136 - acc: 0.7917 - val_loss: 0.5614 - val_acc: 0.7258\n",
      "Epoch 10/20\n",
      " - 0s - loss: 0.4182 - acc: 0.7953 - val_loss: 0.6932 - val_acc: 0.7581\n",
      "Epoch 11/20\n",
      " - 0s - loss: 0.4038 - acc: 0.8025 - val_loss: 0.6049 - val_acc: 0.7903\n",
      "Epoch 12/20\n",
      " - 0s - loss: 0.3869 - acc: 0.8080 - val_loss: 0.8003 - val_acc: 0.7742\n",
      "Epoch 13/20\n",
      " - 0s - loss: 0.4009 - acc: 0.8170 - val_loss: 0.7401 - val_acc: 0.7581\n",
      "Epoch 14/20\n",
      " - 0s - loss: 0.4177 - acc: 0.8062 - val_loss: 0.6427 - val_acc: 0.7581\n",
      "Epoch 15/20\n",
      " - 0s - loss: 0.3964 - acc: 0.8134 - val_loss: 0.7396 - val_acc: 0.7419\n",
      "Epoch 16/20\n",
      " - 0s - loss: 0.3848 - acc: 0.8170 - val_loss: 0.7098 - val_acc: 0.7903\n",
      "Epoch 17/20\n",
      " - 0s - loss: 0.3852 - acc: 0.8080 - val_loss: 0.8072 - val_acc: 0.7581\n",
      "Epoch 18/20\n",
      " - 0s - loss: 0.4022 - acc: 0.7935 - val_loss: 0.5973 - val_acc: 0.7742\n",
      "Epoch 19/20\n",
      " - 0s - loss: 0.3939 - acc: 0.8025 - val_loss: 1.0792 - val_acc: 0.7419\n",
      "Epoch 20/20\n",
      " - 0s - loss: 0.3985 - acc: 0.8243 - val_loss: 0.8249 - val_acc: 0.7258\n"
     ]
    },
    {
     "data": {
      "text/plain": [
       "<keras.callbacks.History at 0x17689820080>"
      ]
     },
     "execution_count": 89,
     "metadata": {},
     "output_type": "execute_result"
    }
   ],
   "source": [
    "from keras.models import Sequential\n",
    "from keras.layers import Dense\n",
    "from keras.optimizers import Adam\n",
    "\n",
    "model = Sequential()\n",
    "model.add(Dense(input_dim = 8, units = 32, activation='relu'))\n",
    "model.add(Dense(units = 32, activation='relu'))\n",
    "model.add(Dense(units = 2, activation='softmax'))\n",
    "\n",
    "model.compile(Adam(lr=0.05),\n",
    "             loss='categorical_crossentropy',\n",
    "             metrics=['accuracy'])\n",
    "\n",
    "model.fit(X_train, y_train, epochs=20, validation_split=0.1, verbose=2)"
   ]
  },
  {
   "cell_type": "code",
   "execution_count": 92,
   "metadata": {},
   "outputs": [
    {
     "data": {
      "text/plain": [
       "array([[97,  3],\n",
       "       [46,  8]], dtype=int64)"
      ]
     },
     "execution_count": 92,
     "metadata": {},
     "output_type": "execute_result"
    }
   ],
   "source": [
    "y_pred = model.predict(X_test)\n",
    "y_test_class = np.argmax(y_test, axis=1)\n",
    "y_pred_class = np.argmax(y_pred, axis=1)\n",
    "\n",
    "confusion_matrix(y_test_class, y_pred_class)"
   ]
  }
 ],
 "metadata": {
  "kernelspec": {
   "display_name": "Python 3",
   "language": "python",
   "name": "python3"
  },
  "language_info": {
   "codemirror_mode": {
    "name": "ipython",
    "version": 3
   },
   "file_extension": ".py",
   "mimetype": "text/x-python",
   "name": "python",
   "nbconvert_exporter": "python",
   "pygments_lexer": "ipython3",
   "version": "3.6.6"
  }
 },
 "nbformat": 4,
 "nbformat_minor": 2
}
